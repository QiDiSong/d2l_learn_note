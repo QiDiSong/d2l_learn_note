{
 "cells": [
  {
   "cell_type": "code",
   "execution_count": 5,
   "metadata": {
    "collapsed": true
   },
   "outputs": [],
   "source": [
    "import torch\n",
    "from torch import nn\n",
    "from d2l import torch as d2l"
   ]
  },
  {
   "cell_type": "code",
   "execution_count": 6,
   "outputs": [],
   "source": [
    "batch_size = 256\n",
    "train_iter, test_iter = d2l.load_data_fashion_mnist(batch_size)"
   ],
   "metadata": {
    "collapsed": false
   }
  },
  {
   "cell_type": "code",
   "execution_count": 7,
   "outputs": [
    {
     "data": {
      "text/plain": "(<torch.utils.data.dataloader.DataLoader at 0x22ce4e79c70>,\n <torch.utils.data.dataloader.DataLoader at 0x22ce01d9880>)"
     },
     "execution_count": 7,
     "metadata": {},
     "output_type": "execute_result"
    }
   ],
   "source": [
    "train_iter, test_iter"
   ],
   "metadata": {
    "collapsed": false
   }
  },
  {
   "cell_type": "code",
   "execution_count": 8,
   "outputs": [],
   "source": [
    "num_inputs, num_outputs = 784, 10\n",
    "num_hiddens = 256"
   ],
   "metadata": {
    "collapsed": false
   }
  },
  {
   "cell_type": "code",
   "execution_count": 9,
   "outputs": [],
   "source": [
    "w1 = nn.Parameter(\n",
    "    torch.randn(num_inputs, num_hiddens, requires_grad=True)\n",
    ")\n",
    "b1 = nn.Parameter(\n",
    "    torch.zeros(num_hiddens, requires_grad=True)\n",
    ")\n",
    "w2 = nn.Parameter(\n",
    "    torch.randn(num_hiddens, num_outputs, requires_grad=True)\n",
    ")\n",
    "b2 = nn.Parameter(\n",
    "    torch.zeros(num_outputs, requires_grad=True)\n",
    ")"
   ],
   "metadata": {
    "collapsed": false
   }
  },
  {
   "cell_type": "code",
   "execution_count": 10,
   "outputs": [],
   "source": [
    "params = [w1, b1, w2, b2]"
   ],
   "metadata": {
    "collapsed": false
   }
  },
  {
   "cell_type": "code",
   "execution_count": 11,
   "outputs": [],
   "source": [
    "def relu(x):\n",
    "    a = torch.zeros_like(x)     # 生成shape等同于x的全0的torch tensor，用于和x去比较大小\n",
    "    return torch.max(x, a)"
   ],
   "metadata": {
    "collapsed": false
   }
  },
  {
   "cell_type": "code",
   "execution_count": 12,
   "outputs": [],
   "source": [
    "def net(x):\n",
    "    x = x.reshape(-1, num_inputs)\n",
    "    h = relu(x * w1 + b1)\n",
    "    return (h * w2 + b2)\n",
    "\n",
    "loss = nn.CrossEntropyLoss()"
   ],
   "metadata": {
    "collapsed": false
   }
  },
  {
   "cell_type": "code",
   "execution_count": 13,
   "outputs": [],
   "source": [
    "num_epoch = 10\n",
    "lr = 0.1\n",
    "updater = torch.optim.SGD(params, lr)"
   ],
   "metadata": {
    "collapsed": false
   }
  },
  {
   "cell_type": "code",
   "execution_count": null,
   "outputs": [],
   "source": [
    "d2l.train_ch3(net, train_iter, test_iter, loss, num_epoch, updater)"
   ],
   "metadata": {
    "collapsed": false,
    "pycharm": {
     "is_executing": true
    }
   }
  }
 ],
 "metadata": {
  "kernelspec": {
   "display_name": "Python 3",
   "language": "python",
   "name": "python3"
  },
  "language_info": {
   "codemirror_mode": {
    "name": "ipython",
    "version": 2
   },
   "file_extension": ".py",
   "mimetype": "text/x-python",
   "name": "python",
   "nbconvert_exporter": "python",
   "pygments_lexer": "ipython2",
   "version": "2.7.6"
  }
 },
 "nbformat": 4,
 "nbformat_minor": 0
}
