{
 "cells": [
  {
   "cell_type": "code",
   "execution_count": 13,
   "outputs": [],
   "source": [
    "import pandas as pd"
   ],
   "metadata": {
    "collapsed": false
   }
  },
  {
   "cell_type": "code",
   "execution_count": 14,
   "metadata": {
    "collapsed": true
   },
   "outputs": [],
   "source": [
    "df = pd.read_csv('UsersBehavior.csv')"
   ]
  },
  {
   "cell_type": "code",
   "execution_count": 15,
   "outputs": [
    {
     "data": {
      "text/plain": "        userId   itemId  categoryId behaviorType   timestamp  \\\n0            1  2268318     2520377           pv  1511544070   \n1            1  2333346     2520771           pv  1511561733   \n2            1  2576651      149192           pv  1511572885   \n3            1  3830808     4181361           pv  1511593493   \n4            1  4365585     2520377           pv  1511596146   \n...        ...      ...         ...          ...         ...   \n29565  1001485  2370876     3607361           pv  1512093492   \n29566  1001485  1580644     4756105           pv  1512169305   \n29567  1001485  4238786     2735466           pv  1512177421   \n29568  1001485  1607451     4498047           pv  1512177536   \n29569  1001485  1816816     4170419           pv  1512197170   \n\n                      time        date  hour  \n0      2017-11-25 01:21:10  2017-11-25     1  \n1      2017-11-25 06:15:33  2017-11-25     6  \n2      2017-11-25 09:21:25  2017-11-25     9  \n3      2017-11-25 15:04:53  2017-11-25    15  \n4      2017-11-25 15:49:06  2017-11-25    15  \n...                    ...         ...   ...  \n29565  2017-12-01 09:58:12  2017-12-01     9  \n29566  2017-12-02 07:01:45  2017-12-02     7  \n29567  2017-12-02 09:17:01  2017-12-02     9  \n29568  2017-12-02 09:18:56  2017-12-02     9  \n29569  2017-12-02 14:46:10  2017-12-02    14  \n\n[29570 rows x 8 columns]",
      "text/html": "<div>\n<style scoped>\n    .dataframe tbody tr th:only-of-type {\n        vertical-align: middle;\n    }\n\n    .dataframe tbody tr th {\n        vertical-align: top;\n    }\n\n    .dataframe thead th {\n        text-align: right;\n    }\n</style>\n<table border=\"1\" class=\"dataframe\">\n  <thead>\n    <tr style=\"text-align: right;\">\n      <th></th>\n      <th>userId</th>\n      <th>itemId</th>\n      <th>categoryId</th>\n      <th>behaviorType</th>\n      <th>timestamp</th>\n      <th>time</th>\n      <th>date</th>\n      <th>hour</th>\n    </tr>\n  </thead>\n  <tbody>\n    <tr>\n      <th>0</th>\n      <td>1</td>\n      <td>2268318</td>\n      <td>2520377</td>\n      <td>pv</td>\n      <td>1511544070</td>\n      <td>2017-11-25 01:21:10</td>\n      <td>2017-11-25</td>\n      <td>1</td>\n    </tr>\n    <tr>\n      <th>1</th>\n      <td>1</td>\n      <td>2333346</td>\n      <td>2520771</td>\n      <td>pv</td>\n      <td>1511561733</td>\n      <td>2017-11-25 06:15:33</td>\n      <td>2017-11-25</td>\n      <td>6</td>\n    </tr>\n    <tr>\n      <th>2</th>\n      <td>1</td>\n      <td>2576651</td>\n      <td>149192</td>\n      <td>pv</td>\n      <td>1511572885</td>\n      <td>2017-11-25 09:21:25</td>\n      <td>2017-11-25</td>\n      <td>9</td>\n    </tr>\n    <tr>\n      <th>3</th>\n      <td>1</td>\n      <td>3830808</td>\n      <td>4181361</td>\n      <td>pv</td>\n      <td>1511593493</td>\n      <td>2017-11-25 15:04:53</td>\n      <td>2017-11-25</td>\n      <td>15</td>\n    </tr>\n    <tr>\n      <th>4</th>\n      <td>1</td>\n      <td>4365585</td>\n      <td>2520377</td>\n      <td>pv</td>\n      <td>1511596146</td>\n      <td>2017-11-25 15:49:06</td>\n      <td>2017-11-25</td>\n      <td>15</td>\n    </tr>\n    <tr>\n      <th>...</th>\n      <td>...</td>\n      <td>...</td>\n      <td>...</td>\n      <td>...</td>\n      <td>...</td>\n      <td>...</td>\n      <td>...</td>\n      <td>...</td>\n    </tr>\n    <tr>\n      <th>29565</th>\n      <td>1001485</td>\n      <td>2370876</td>\n      <td>3607361</td>\n      <td>pv</td>\n      <td>1512093492</td>\n      <td>2017-12-01 09:58:12</td>\n      <td>2017-12-01</td>\n      <td>9</td>\n    </tr>\n    <tr>\n      <th>29566</th>\n      <td>1001485</td>\n      <td>1580644</td>\n      <td>4756105</td>\n      <td>pv</td>\n      <td>1512169305</td>\n      <td>2017-12-02 07:01:45</td>\n      <td>2017-12-02</td>\n      <td>7</td>\n    </tr>\n    <tr>\n      <th>29567</th>\n      <td>1001485</td>\n      <td>4238786</td>\n      <td>2735466</td>\n      <td>pv</td>\n      <td>1512177421</td>\n      <td>2017-12-02 09:17:01</td>\n      <td>2017-12-02</td>\n      <td>9</td>\n    </tr>\n    <tr>\n      <th>29568</th>\n      <td>1001485</td>\n      <td>1607451</td>\n      <td>4498047</td>\n      <td>pv</td>\n      <td>1512177536</td>\n      <td>2017-12-02 09:18:56</td>\n      <td>2017-12-02</td>\n      <td>9</td>\n    </tr>\n    <tr>\n      <th>29569</th>\n      <td>1001485</td>\n      <td>1816816</td>\n      <td>4170419</td>\n      <td>pv</td>\n      <td>1512197170</td>\n      <td>2017-12-02 14:46:10</td>\n      <td>2017-12-02</td>\n      <td>14</td>\n    </tr>\n  </tbody>\n</table>\n<p>29570 rows × 8 columns</p>\n</div>"
     },
     "execution_count": 15,
     "metadata": {},
     "output_type": "execute_result"
    }
   ],
   "source": [
    "df"
   ],
   "metadata": {
    "collapsed": false
   }
  },
  {
   "cell_type": "code",
   "execution_count": 16,
   "outputs": [
    {
     "name": "stdout",
     "output_type": "stream",
     "text": [
      "   userId   itemId  categoryId behaviorType   timestamp                 time  \\\n",
      "0       1  2268318     2520377           pv  1511544070  2017-11-25 01:21:10   \n",
      "1       1  2333346     2520771           pv  1511561733  2017-11-25 06:15:33   \n",
      "2       1  2576651      149192           pv  1511572885  2017-11-25 09:21:25   \n",
      "3       1  3830808     4181361           pv  1511593493  2017-11-25 15:04:53   \n",
      "4       1  4365585     2520377           pv  1511596146  2017-11-25 15:49:06   \n",
      "\n",
      "         date  hour  \n",
      "0  2017-11-25     1  \n",
      "1  2017-11-25     6  \n",
      "2  2017-11-25     9  \n",
      "3  2017-11-25    15  \n",
      "4  2017-11-25    15  \n"
     ]
    }
   ],
   "source": [
    "print(df.head())"
   ],
   "metadata": {
    "collapsed": false
   }
  },
  {
   "cell_type": "code",
   "execution_count": 17,
   "outputs": [
    {
     "data": {
      "text/plain": "0        2017-11-25\n1        2017-11-25\n2        2017-11-25\n3        2017-11-25\n4        2017-11-25\n            ...    \n29565    2017-12-01\n29566    2017-12-02\n29567    2017-12-02\n29568    2017-12-02\n29569    2017-12-02\nName: date, Length: 29570, dtype: object"
     },
     "execution_count": 17,
     "metadata": {},
     "output_type": "execute_result"
    }
   ],
   "source": [
    "# 将日期转换为日期格式并提取出日期\n",
    "df['date'] = pd.to_datetime(df['date'])\n",
    "df['date'] = df['date'].dt.date\n",
    "df['date']"
   ],
   "metadata": {
    "collapsed": false
   }
  },
  {
   "cell_type": "code",
   "execution_count": 18,
   "outputs": [
    {
     "data": {
      "text/plain": "        userId   itemId  categoryId behaviorType   timestamp  \\\n0            1  2268318     2520377            1  1511544070   \n1            1  2333346     2520771            1  1511561733   \n2            1  2576651      149192            1  1511572885   \n3            1  3830808     4181361            1  1511593493   \n4            1  4365585     2520377            1  1511596146   \n...        ...      ...         ...          ...         ...   \n29565  1001485  2370876     3607361            1  1512093492   \n29566  1001485  1580644     4756105            1  1512169305   \n29567  1001485  4238786     2735466            1  1512177421   \n29568  1001485  1607451     4498047            1  1512177536   \n29569  1001485  1816816     4170419            1  1512197170   \n\n                      time        date  hour  \n0      2017-11-25 01:21:10  2017-11-25     1  \n1      2017-11-25 06:15:33  2017-11-25     6  \n2      2017-11-25 09:21:25  2017-11-25     9  \n3      2017-11-25 15:04:53  2017-11-25    15  \n4      2017-11-25 15:49:06  2017-11-25    15  \n...                    ...         ...   ...  \n29565  2017-12-01 09:58:12  2017-12-01     9  \n29566  2017-12-02 07:01:45  2017-12-02     7  \n29567  2017-12-02 09:17:01  2017-12-02     9  \n29568  2017-12-02 09:18:56  2017-12-02     9  \n29569  2017-12-02 14:46:10  2017-12-02    14  \n\n[29570 rows x 8 columns]",
      "text/html": "<div>\n<style scoped>\n    .dataframe tbody tr th:only-of-type {\n        vertical-align: middle;\n    }\n\n    .dataframe tbody tr th {\n        vertical-align: top;\n    }\n\n    .dataframe thead th {\n        text-align: right;\n    }\n</style>\n<table border=\"1\" class=\"dataframe\">\n  <thead>\n    <tr style=\"text-align: right;\">\n      <th></th>\n      <th>userId</th>\n      <th>itemId</th>\n      <th>categoryId</th>\n      <th>behaviorType</th>\n      <th>timestamp</th>\n      <th>time</th>\n      <th>date</th>\n      <th>hour</th>\n    </tr>\n  </thead>\n  <tbody>\n    <tr>\n      <th>0</th>\n      <td>1</td>\n      <td>2268318</td>\n      <td>2520377</td>\n      <td>1</td>\n      <td>1511544070</td>\n      <td>2017-11-25 01:21:10</td>\n      <td>2017-11-25</td>\n      <td>1</td>\n    </tr>\n    <tr>\n      <th>1</th>\n      <td>1</td>\n      <td>2333346</td>\n      <td>2520771</td>\n      <td>1</td>\n      <td>1511561733</td>\n      <td>2017-11-25 06:15:33</td>\n      <td>2017-11-25</td>\n      <td>6</td>\n    </tr>\n    <tr>\n      <th>2</th>\n      <td>1</td>\n      <td>2576651</td>\n      <td>149192</td>\n      <td>1</td>\n      <td>1511572885</td>\n      <td>2017-11-25 09:21:25</td>\n      <td>2017-11-25</td>\n      <td>9</td>\n    </tr>\n    <tr>\n      <th>3</th>\n      <td>1</td>\n      <td>3830808</td>\n      <td>4181361</td>\n      <td>1</td>\n      <td>1511593493</td>\n      <td>2017-11-25 15:04:53</td>\n      <td>2017-11-25</td>\n      <td>15</td>\n    </tr>\n    <tr>\n      <th>4</th>\n      <td>1</td>\n      <td>4365585</td>\n      <td>2520377</td>\n      <td>1</td>\n      <td>1511596146</td>\n      <td>2017-11-25 15:49:06</td>\n      <td>2017-11-25</td>\n      <td>15</td>\n    </tr>\n    <tr>\n      <th>...</th>\n      <td>...</td>\n      <td>...</td>\n      <td>...</td>\n      <td>...</td>\n      <td>...</td>\n      <td>...</td>\n      <td>...</td>\n      <td>...</td>\n    </tr>\n    <tr>\n      <th>29565</th>\n      <td>1001485</td>\n      <td>2370876</td>\n      <td>3607361</td>\n      <td>1</td>\n      <td>1512093492</td>\n      <td>2017-12-01 09:58:12</td>\n      <td>2017-12-01</td>\n      <td>9</td>\n    </tr>\n    <tr>\n      <th>29566</th>\n      <td>1001485</td>\n      <td>1580644</td>\n      <td>4756105</td>\n      <td>1</td>\n      <td>1512169305</td>\n      <td>2017-12-02 07:01:45</td>\n      <td>2017-12-02</td>\n      <td>7</td>\n    </tr>\n    <tr>\n      <th>29567</th>\n      <td>1001485</td>\n      <td>4238786</td>\n      <td>2735466</td>\n      <td>1</td>\n      <td>1512177421</td>\n      <td>2017-12-02 09:17:01</td>\n      <td>2017-12-02</td>\n      <td>9</td>\n    </tr>\n    <tr>\n      <th>29568</th>\n      <td>1001485</td>\n      <td>1607451</td>\n      <td>4498047</td>\n      <td>1</td>\n      <td>1512177536</td>\n      <td>2017-12-02 09:18:56</td>\n      <td>2017-12-02</td>\n      <td>9</td>\n    </tr>\n    <tr>\n      <th>29569</th>\n      <td>1001485</td>\n      <td>1816816</td>\n      <td>4170419</td>\n      <td>1</td>\n      <td>1512197170</td>\n      <td>2017-12-02 14:46:10</td>\n      <td>2017-12-02</td>\n      <td>14</td>\n    </tr>\n  </tbody>\n</table>\n<p>29570 rows × 8 columns</p>\n</div>"
     },
     "execution_count": 18,
     "metadata": {},
     "output_type": "execute_result"
    }
   ],
   "source": [
    "df.loc[df['behaviorType'] != 'pv', 'behaviorType'] = 0\n",
    "df.loc[df['behaviorType'] == 'pv', 'behaviorType'] = 1\n",
    "df"
   ],
   "metadata": {
    "collapsed": false
   }
  },
  {
   "cell_type": "code",
   "execution_count": 19,
   "outputs": [
    {
     "data": {
      "text/plain": "date\n2017-11-25    2909\n2017-11-26    3315\n2017-11-27    2964\n2017-11-28    3062\n2017-11-29    3307\n2017-11-30    3293\n2017-12-01    3290\n2017-12-02    4447\nName: behaviorType, dtype: int64"
     },
     "execution_count": 19,
     "metadata": {},
     "output_type": "execute_result"
    }
   ],
   "source": [
    "# 按日期分组并计算每日点击量\n",
    "pv_per_day = df.groupby('date')['behaviorType'].sum()\n",
    "pv_per_day"
   ],
   "metadata": {
    "collapsed": false
   }
  },
  {
   "cell_type": "code",
   "execution_count": 20,
   "outputs": [
    {
     "data": {
      "text/plain": "date\n2017-12-02    4447\n2017-11-26    3315\n2017-11-29    3307\n2017-11-30    3293\n2017-12-01    3290\n2017-11-28    3062\n2017-11-27    2964\n2017-11-25    2909\nName: behaviorType, dtype: int64"
     },
     "execution_count": 20,
     "metadata": {},
     "output_type": "execute_result"
    }
   ],
   "source": [
    "pv_per_day = pv_per_day.sort_values(ascending=False)\n",
    "pv_per_day"
   ],
   "metadata": {
    "collapsed": false
   }
  },
  {
   "cell_type": "code",
   "execution_count": 21,
   "outputs": [],
   "source": [
    "pv_per_day.to_excel('223102张三.xlsx')"
   ],
   "metadata": {
    "collapsed": false
   }
  }
 ],
 "metadata": {
  "kernelspec": {
   "display_name": "Python 3",
   "language": "python",
   "name": "python3"
  },
  "language_info": {
   "codemirror_mode": {
    "name": "ipython",
    "version": 2
   },
   "file_extension": ".py",
   "mimetype": "text/x-python",
   "name": "python",
   "nbconvert_exporter": "python",
   "pygments_lexer": "ipython2",
   "version": "2.7.6"
  }
 },
 "nbformat": 4,
 "nbformat_minor": 0
}
