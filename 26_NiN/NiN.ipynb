{
 "cells": [
  {
   "cell_type": "code",
   "execution_count": 23,
   "metadata": {
    "collapsed": true
   },
   "outputs": [],
   "source": [
    "import torch\n",
    "from torch import nn\n",
    "from d2l import torch as d2l"
   ]
  },
  {
   "cell_type": "code",
   "execution_count": 24,
   "outputs": [],
   "source": [
    "def nin_block(input_channel, output_channel, kernel_size, stride, padding):\n",
    "    return nn.Sequential(\n",
    "        nn.Conv2d(input_channel, output_channel, kernel_size, stride, padding), nn.ReLU(),\n",
    "        nn.Conv2d(output_channel, output_channel, kernel_size=1), nn.ReLU(),\n",
    "        nn.Conv2d(output_channel, output_channel, kernel_size=1), nn.ReLU(),\n",
    "    )"
   ],
   "metadata": {
    "collapsed": false
   }
  },
  {
   "cell_type": "code",
   "execution_count": 25,
   "outputs": [],
   "source": [
    "NiN_net = nn.Sequential(\n",
    "    nin_block(1, 96, kernel_size=11, stride=4, padding=0),\n",
    "    nn.MaxPool2d(kernel_size=3, stride=2),\n",
    "    nin_block(96, 256, kernel_size=5, stride=1, padding=2),\n",
    "    nn.MaxPool2d(kernel_size=3, stride=2),\n",
    "    nin_block(256, 384, kernel_size=3, stride=1, padding=1),\n",
    "    nn.MaxPool2d(kernel_size=3, stride=2),\n",
    "    nn.Dropout(0.5),\n",
    "    nin_block(384, 10, kernel_size=3, stride=1, padding=1),\n",
    "    nn.AdaptiveAvgPool2d((1, 1)),\n",
    "    nn.Flatten()\n",
    ")"
   ],
   "metadata": {
    "collapsed": false
   }
  },
  {
   "cell_type": "code",
   "execution_count": 26,
   "outputs": [
    {
     "name": "stdout",
     "output_type": "stream",
     "text": [
      "Sequential Output Type: \t torch.Size([1, 96, 54, 54])\n",
      "MaxPool2d Output Type: \t torch.Size([1, 96, 26, 26])\n",
      "Sequential Output Type: \t torch.Size([1, 256, 26, 26])\n",
      "MaxPool2d Output Type: \t torch.Size([1, 256, 12, 12])\n",
      "Sequential Output Type: \t torch.Size([1, 384, 12, 12])\n",
      "MaxPool2d Output Type: \t torch.Size([1, 384, 5, 5])\n",
      "Dropout Output Type: \t torch.Size([1, 384, 5, 5])\n",
      "Sequential Output Type: \t torch.Size([1, 10, 5, 5])\n",
      "AdaptiveAvgPool2d Output Type: \t torch.Size([1, 10, 1, 1])\n",
      "Flatten Output Type: \t torch.Size([1, 10])\n"
     ]
    }
   ],
   "source": [
    "x = torch.randn(1, 1, 224, 224)\n",
    "for layer in NiN_net:\n",
    "    x = layer(x)\n",
    "    print(layer.__class__.__name__, 'Output Type: \\t', x.shape)"
   ],
   "metadata": {
    "collapsed": false
   }
  },
  {
   "cell_type": "code",
   "execution_count": 27,
   "outputs": [],
   "source": [
    "lr, num_epochs, batch_size = 0.1, 10, 128\n",
    "# train_iter, test_iter = d2l.load_data_fashion_mnist(batch_size, resize=224)\n",
    "# d2l.train_ch6(NiN_net, train_iter, test_iter, num_epochs, lr, d2l.try_gpu())"
   ],
   "metadata": {
    "collapsed": false
   }
  },
  {
   "cell_type": "code",
   "execution_count": 28,
   "outputs": [],
   "source": [
    "# NiN基于Alexnet进行改进\n",
    "# 卷积核和通道数复用Alexnet的设置"
   ],
   "metadata": {
    "collapsed": false
   }
  }
 ],
 "metadata": {
  "kernelspec": {
   "display_name": "Python 3",
   "language": "python",
   "name": "python3"
  },
  "language_info": {
   "codemirror_mode": {
    "name": "ipython",
    "version": 2
   },
   "file_extension": ".py",
   "mimetype": "text/x-python",
   "name": "python",
   "nbconvert_exporter": "python",
   "pygments_lexer": "ipython2",
   "version": "2.7.6"
  }
 },
 "nbformat": 4,
 "nbformat_minor": 0
}
