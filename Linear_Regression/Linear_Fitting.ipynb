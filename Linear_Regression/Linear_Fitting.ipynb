{
 "cells": [
  {
   "cell_type": "code",
   "execution_count": 45,
   "metadata": {
    "collapsed": true
   },
   "outputs": [],
   "source": [
    "import torch\n",
    "from torch import nn, optim"
   ]
  },
  {
   "cell_type": "code",
   "execution_count": 46,
   "outputs": [],
   "source": [
    "x = torch.randn(100, 2)\n",
    "y = 3 * x[:, 0] - 2 * x[:, 1] + torch.randn(100)"
   ],
   "metadata": {
    "collapsed": false
   }
  },
  {
   "cell_type": "code",
   "execution_count": 47,
   "outputs": [],
   "source": [
    "model = nn.Linear(2, 1)\n",
    "criterion = nn.MSELoss()\n",
    "optimizer = optim.SGD(model.parameters(), lr=0.01)"
   ],
   "metadata": {
    "collapsed": false
   }
  },
  {
   "cell_type": "code",
   "execution_count": 56,
   "outputs": [
    {
     "name": "stdout",
     "output_type": "stream",
     "text": [
      "Epoch: 0, Loss: 1.3035\n",
      "Epoch: 100, Loss: 1.3035\n",
      "Epoch: 200, Loss: 1.3035\n",
      "Epoch: 300, Loss: 1.3035\n",
      "Epoch: 400, Loss: 1.3035\n",
      "Epoch: 500, Loss: 1.3035\n",
      "Epoch: 600, Loss: 1.3035\n",
      "Epoch: 700, Loss: 1.3035\n",
      "Epoch: 800, Loss: 1.3035\n",
      "Epoch: 900, Loss: 1.3035\n"
     ]
    }
   ],
   "source": [
    "for i in range(1000):\n",
    "    # 将参数梯度清零\n",
    "    optimizer.zero_grad()\n",
    "    output = model(x)\n",
    "    # print(output.shape, y.shape)\n",
    "    loss = criterion(y, output.reshape(y.shape))\n",
    "    # print(output == output.squeeze())\n",
    "    loss.backward()\n",
    "    optimizer.step()\n",
    "    if i % 100 == 0:\n",
    "        print('Epoch: %d, Loss: %.4f' % (i, loss.item()))"
   ],
   "metadata": {
    "collapsed": false
   }
  },
  {
   "cell_type": "code",
   "execution_count": 57,
   "outputs": [
    {
     "name": "stdout",
     "output_type": "stream",
     "text": [
      "Weight:  tensor([[ 2.9411, -2.1877]])\n",
      "Bias:  tensor([-0.1085])\n"
     ]
    }
   ],
   "source": [
    "print('Weight: ', model.weight.data)\n",
    "print('Bias: ', model.bias.data)"
   ],
   "metadata": {
    "collapsed": false
   }
  },
  {
   "cell_type": "code",
   "execution_count": 82,
   "outputs": [
    {
     "name": "stdout",
     "output_type": "stream",
     "text": [
      "False\n"
     ]
    }
   ],
   "source": [
    "import numpy as np\n",
    "\n",
    "# 定义两个数组 a 和 b\n",
    "a = np.array([1.0, 2.0, 3.0])\n",
    "b = np.array([1.001, 2.002, 3.003])\n",
    "\n",
    "# 比较两个数组是否相等\n",
    "result = np.allclose(a, b, atol=0.0029)\n",
    "\n",
    "# 输出比较结果\n",
    "print(result)\n"
   ],
   "metadata": {
    "collapsed": false
   }
  },
  {
   "cell_type": "code",
   "execution_count": 86,
   "outputs": [
    {
     "data": {
      "text/plain": "128"
     },
     "execution_count": 86,
     "metadata": {},
     "output_type": "execute_result"
    }
   ],
   "source": [
    "a = '8dcda0602014f5e7e7bc8071ad031a17'\n",
    "len(a) * 4"
   ],
   "metadata": {
    "collapsed": false
   }
  },
  {
   "cell_type": "code",
   "execution_count": null,
   "outputs": [],
   "source": [],
   "metadata": {
    "collapsed": false
   }
  }
 ],
 "metadata": {
  "kernelspec": {
   "display_name": "Python 3",
   "language": "python",
   "name": "python3"
  },
  "language_info": {
   "codemirror_mode": {
    "name": "ipython",
    "version": 2
   },
   "file_extension": ".py",
   "mimetype": "text/x-python",
   "name": "python",
   "nbconvert_exporter": "python",
   "pygments_lexer": "ipython2",
   "version": "2.7.6"
  }
 },
 "nbformat": 4,
 "nbformat_minor": 0
}
