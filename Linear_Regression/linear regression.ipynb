{
 "cells": [
  {
   "cell_type": "code",
   "execution_count": 88,
   "metadata": {},
   "outputs": [],
   "source": [
    "%matplotlib inline\n",
    "import random\n",
    "import torch\n",
    "from d2l import torch as d2l"
   ]
  },
  {
   "cell_type": "code",
   "execution_count": 89,
   "metadata": {},
   "outputs": [],
   "source": [
    "def synthetic_data(w, b, num_examples):\n",
    "    # generate y = wx + b + 噪声\n",
    "    x = torch.normal(0, 1, (num_examples, len(w)))\n",
    "    y = torch.matmul(x, w) + b\n",
    "    y += torch.normal(0, 0.01, y.shape)\n",
    "    return x, y.reshape((-1, 1))\n",
    "\n",
    "true_w = torch.tensor([2, -3.4], dtype=torch.float32)\n",
    "true_b = 4.2\n",
    "features, labels = synthetic_data(true_w, true_b, 1000)"
   ]
  },
  {
   "cell_type": "code",
   "execution_count": 90,
   "metadata": {},
   "outputs": [
    {
     "name": "stdout",
     "output_type": "stream",
     "text": [
      "features: tensor([0.7381, 0.4171]) \n",
      "label: tensor([4.2498])\n"
     ]
    }
   ],
   "source": [
    "print('features:', features[0],'\\nlabel:', labels[0])"
   ]
  },
  {
   "cell_type": "code",
   "execution_count": 91,
   "metadata": {},
   "outputs": [],
   "source": [
    "d2l.set_figsize()\n",
    "#d2l.plt.scatter(features[:, 1].detach().numpy(), labels.detach().numpy(), 1);\n",
    "#d2l.plot.show()"
   ]
  },
  {
   "cell_type": "code",
   "execution_count": 92,
   "metadata": {},
   "outputs": [],
   "source": [
    "def data_iter(batch_size, features, labels):\n",
    "    num_examples = len(features)\n",
    "    indices = list(range(num_examples))\n",
    "    random.shuffle(indices)\n",
    "    # print(indices)\n",
    "    for i in range(0, num_examples, batch_size):\n",
    "        batch_indices = torch.tensor(\n",
    "            indices[i:min(i + batch_size, num_examples)]\n",
    "        )\n",
    "        yield features[batch_indices], labels[batch_indices]\n"
   ]
  },
  {
   "cell_type": "code",
   "execution_count": 93,
   "metadata": {},
   "outputs": [
    {
     "name": "stdout",
     "output_type": "stream",
     "text": [
      "tensor([[ 0.5601,  0.7714],\n",
      "        [-0.9142, -0.4957],\n",
      "        [-0.4034,  1.0671],\n",
      "        [-0.6418, -0.1422],\n",
      "        [ 0.6082, -0.8537],\n",
      "        [-1.4738,  1.9927],\n",
      "        [ 1.7154, -0.5196],\n",
      "        [-0.7506,  0.3712],\n",
      "        [-1.4413, -1.2807],\n",
      "        [-0.0293, -0.7154]]) \n",
      " tensor([[ 2.7029],\n",
      "        [ 4.0580],\n",
      "        [-0.2430],\n",
      "        [ 3.3995],\n",
      "        [ 8.3094],\n",
      "        [-5.5458],\n",
      "        [ 9.4178],\n",
      "        [ 1.4497],\n",
      "        [ 5.6748],\n",
      "        [ 6.5942]])\n"
     ]
    }
   ],
   "source": [
    "batch_size = 10\n",
    "for x, y in data_iter(batch_size=batch_size, features=features, labels=labels):\n",
    "    print(x, '\\n', y)\n",
    "    break"
   ]
  },
  {
   "cell_type": "code",
   "execution_count": 94,
   "metadata": {},
   "outputs": [
    {
     "data": {
      "text/plain": [
       "tensor([4, 6])"
      ]
     },
     "execution_count": 94,
     "metadata": {},
     "output_type": "execute_result"
    }
   ],
   "source": [
    "num = torch.tensor([1, 2, 3, 4, 5, 6])\n",
    "index = [3, 5]\n",
    "num[index]"
   ]
  },
  {
   "cell_type": "code",
   "execution_count": 95,
   "metadata": {},
   "outputs": [
    {
     "data": {
      "text/plain": [
       "[tensor([[ 0.0045],\n",
       "         [-0.0063]], requires_grad=True),\n",
       " tensor([0.], requires_grad=True)]"
      ]
     },
     "execution_count": 95,
     "metadata": {},
     "output_type": "execute_result"
    }
   ],
   "source": [
    "w = torch.normal(0, 0.01, size=(2, 1), requires_grad=True)\n",
    "b = torch.zeros(1, requires_grad=True)\n",
    "# for param in [w, b]:\n",
    "    # print(param)\n",
    "[w, b]"
   ]
  },
  {
   "cell_type": "code",
   "execution_count": 96,
   "metadata": {},
   "outputs": [],
   "source": [
    "def linereg(x, w, b):\n",
    "    # 线性回归函数\n",
    "    return torch.matmul(x, w) + b"
   ]
  },
  {
   "cell_type": "code",
   "execution_count": 97,
   "metadata": {},
   "outputs": [],
   "source": [
    "# 定义损失函数\n",
    "def squared_loss(y_hat, y):\n",
    "    # 均方损失\n",
    "    return (y_hat - y.reshape(y_hat.shape)) ** 2 / 2"
   ]
  },
  {
   "cell_type": "code",
   "execution_count": 98,
   "metadata": {},
   "outputs": [],
   "source": [
    "# 定义优化算法\n",
    "def sgd(params, lr, batch_size):\n",
    "    # 小批量随机梯度下降\n",
    "    with torch.no_grad():   # 更新时不要参与梯度计算\n",
    "        for param in params:\n",
    "            param -= lr * param.grad / batch_size\n",
    "            param.grad.zero_()      # 手动的将梯度设置为0\n",
    "            "
   ]
  },
  {
   "cell_type": "code",
   "execution_count": 99,
   "metadata": {},
   "outputs": [
    {
     "name": "stdout",
     "output_type": "stream",
     "text": [
      "epoch 1, loss 0.034333\n",
      "epoch 2, loss 0.000126\n",
      "epoch 3, loss 0.000051\n"
     ]
    }
   ],
   "source": [
    "# 训练过程\n",
    "lr = 0.03\n",
    "num_epochs = 3\n",
    "net = linereg\n",
    "loss = squared_loss\n",
    "\n",
    "for epoch in range(num_epochs):\n",
    "    for x, y in data_iter(batch_size, features, labels):\n",
    "        l = loss(net(x, w, b), y)\n",
    "        # l.shape = [batch_size, 1],而不是一个标量，l中所有的元素被加到loss中\n",
    "        l.sum().backward()\n",
    "        sgd([w, b], lr, batch_size)\n",
    "    \n",
    "    with torch.no_grad():\n",
    "        train_l = loss(net(features, w, b), labels)\n",
    "        print(f'epoch {epoch + 1}, loss {float(train_l.mean()):f}')"
   ]
  },
  {
   "cell_type": "code",
   "execution_count": null,
   "metadata": {},
   "outputs": [],
   "source": []
  }
 ],
 "metadata": {
  "kernelspec": {
   "display_name": "base",
   "language": "python",
   "name": "python3"
  },
  "language_info": {
   "codemirror_mode": {
    "name": "ipython",
    "version": 3
   },
   "file_extension": ".py",
   "mimetype": "text/x-python",
   "name": "python",
   "nbconvert_exporter": "python",
   "pygments_lexer": "ipython3",
   "version": "3.9.12"
  },
  "orig_nbformat": 4,
  "vscode": {
   "interpreter": {
    "hash": "b29fb99b1325a9250febc7e14012a7dea880220642f4ac8377c9e6984133289b"
   }
  }
 },
 "nbformat": 4,
 "nbformat_minor": 2
}
