{
 "cells": [
  {
   "cell_type": "code",
   "execution_count": 1,
   "metadata": {
    "collapsed": true
   },
   "outputs": [],
   "source": [
    "import torch\n",
    "from torch import nn\n",
    "from d2l import torch as d2l"
   ]
  },
  {
   "cell_type": "code",
   "execution_count": 3,
   "outputs": [],
   "source": [
    "def trans_conv(X, K):\n",
    "    # X is the input\n",
    "    # K is the kernel\n",
    "    h, w = K.shape\n",
    "    Y = torch.zeros(\n",
    "        (X.shape[0] + h - 1, X.shape[1] + w - 1)\n",
    "    )\n",
    "    for i in range(X.shape[0]):\n",
    "        for j in range(X.shape[1]):\n",
    "            Y[i:i + h, j:j + w] += X[i, j] * K\n",
    "    return Y"
   ],
   "metadata": {
    "collapsed": false
   }
  },
  {
   "cell_type": "code",
   "execution_count": 7,
   "outputs": [
    {
     "data": {
      "text/plain": "(tensor([[ 0.,  0.,  1.],\n         [ 0.,  4.,  6.],\n         [ 4., 12.,  9.]]),\n tensor([[ 0.,  0.,  1.],\n         [ 0.,  4.,  6.],\n         [ 4., 12.,  9.]]))"
     },
     "execution_count": 7,
     "metadata": {},
     "output_type": "execute_result"
    }
   ],
   "source": [
    "X = torch.tensor([\n",
    "    [0.0, 1.0],\n",
    "    [2.0, 3.0]\n",
    "])\n",
    "Y = torch.tensor([\n",
    "    [0.0, 1.0],\n",
    "    [2.0, 3.0]\n",
    "])\n",
    "trans_conv(X, Y), trans_conv(Y, X)"
   ],
   "metadata": {
    "collapsed": false
   }
  },
  {
   "cell_type": "code",
   "execution_count": 8,
   "outputs": [
    {
     "data": {
      "text/plain": "tensor([[[[ 0.,  0.,  1.],\n          [ 0.,  4.,  6.],\n          [ 4., 12.,  9.]]]], grad_fn=<ConvolutionBackward0>)"
     },
     "execution_count": 8,
     "metadata": {},
     "output_type": "execute_result"
    }
   ],
   "source": [
    "# Official API\n",
    "X, K = X.reshape(1, 1, 2, 2), Y.reshape(1, 1, 2, 2)\n",
    "t_conv = nn.ConvTranspose2d(1, 1, kernel_size=2, bias=False)\n",
    "t_conv.weight.data = K\n",
    "t_conv(X)"
   ],
   "metadata": {
    "collapsed": false
   }
  },
  {
   "cell_type": "code",
   "execution_count": null,
   "outputs": [],
   "source": [],
   "metadata": {
    "collapsed": false
   }
  }
 ],
 "metadata": {
  "kernelspec": {
   "display_name": "Python 3",
   "language": "python",
   "name": "python3"
  },
  "language_info": {
   "codemirror_mode": {
    "name": "ipython",
    "version": 2
   },
   "file_extension": ".py",
   "mimetype": "text/x-python",
   "name": "python",
   "nbconvert_exporter": "python",
   "pygments_lexer": "ipython2",
   "version": "2.7.6"
  }
 },
 "nbformat": 4,
 "nbformat_minor": 0
}
