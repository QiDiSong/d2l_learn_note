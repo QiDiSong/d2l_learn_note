{
 "cells": [
  {
   "cell_type": "code",
   "execution_count": 1,
   "metadata": {
    "collapsed": true
   },
   "outputs": [],
   "source": [
    "import torch\n",
    "from torch import nn\n",
    "from d2l import torch as d2l"
   ]
  },
  {
   "cell_type": "code",
   "execution_count": 2,
   "outputs": [],
   "source": [
    "def vgg_block(num_convs, input_channels, output_channels):\n",
    "    layers = []\n",
    "    for _ in range(num_convs):\n",
    "        layers.append(\n",
    "            nn.Conv2d(input_channels, output_channels, kernel_size=3, padding=1)\n",
    "        )\n",
    "        layers.append(nn.ReLU())\n",
    "        input_channels = output_channels\n",
    "    layers.append(nn.MaxPool2d(kernel_size=2, stride=2))\n",
    "    return nn.Sequential(*layers)"
   ],
   "metadata": {
    "collapsed": false
   }
  },
  {
   "cell_type": "code",
   "execution_count": 3,
   "outputs": [],
   "source": [
    "conv_arch = (\n",
    "    (1, 64),        # (num_convs, output_channels)\n",
    "    (1, 128),\n",
    "    (2, 256),\n",
    "    (2, 512),\n",
    "    (2, 512)\n",
    ")\n",
    "def vgg(conv_arch):\n",
    "    conv_blks = []\n",
    "    input_channel = 1\n",
    "    for (num_conv, output_channel) in conv_arch:\n",
    "        conv_blks.append(\n",
    "            vgg_block(num_conv, input_channel, output_channel)\n",
    "        )\n",
    "        input_channel = output_channel\n",
    "    vgg_net = nn.Sequential(\n",
    "        *conv_blks,\n",
    "        nn.Flatten(),\n",
    "        nn.Linear(output_channel * 7 * 7, 4096),\n",
    "        nn.ReLU(),\n",
    "        nn.Dropout(0.5),\n",
    "        nn.Linear(4096, 4096),\n",
    "        nn.ReLU(),\n",
    "        nn.Dropout(0.5),\n",
    "        nn.Linear(4096, 10)\n",
    "    )\n",
    "    return vgg_net\n",
    "net = vgg(conv_arch)"
   ],
   "metadata": {
    "collapsed": false
   }
  },
  {
   "cell_type": "code",
   "execution_count": 4,
   "outputs": [
    {
     "name": "stdout",
     "output_type": "stream",
     "text": [
      "Sequential Output shape: \t torch.Size([1, 64, 112, 112])\n",
      "Sequential Output shape: \t torch.Size([1, 128, 56, 56])\n",
      "Sequential Output shape: \t torch.Size([1, 256, 28, 28])\n",
      "Sequential Output shape: \t torch.Size([1, 512, 14, 14])\n",
      "Sequential Output shape: \t torch.Size([1, 512, 7, 7])\n",
      "Flatten Output shape: \t torch.Size([1, 25088])\n",
      "Linear Output shape: \t torch.Size([1, 4096])\n",
      "ReLU Output shape: \t torch.Size([1, 4096])\n",
      "Dropout Output shape: \t torch.Size([1, 4096])\n",
      "Linear Output shape: \t torch.Size([1, 4096])\n",
      "ReLU Output shape: \t torch.Size([1, 4096])\n",
      "Dropout Output shape: \t torch.Size([1, 4096])\n",
      "Linear Output shape: \t torch.Size([1, 10])\n"
     ]
    }
   ],
   "source": [
    "x = torch.randn(size=(1, 1, 224, 224))\n",
    "for blk in net:\n",
    "    x = blk(x)\n",
    "    print(blk.__class__.__name__, 'Output shape: \\t', x.shape)"
   ],
   "metadata": {
    "collapsed": false
   }
  },
  {
   "cell_type": "code",
   "execution_count": 5,
   "outputs": [],
   "source": [
    "ratio = 4\n",
    "small_conv_arch = [(ca[0], ca[1] // ratio) for ca in conv_arch]\n",
    "net = vgg(small_conv_arch)"
   ],
   "metadata": {
    "collapsed": false
   }
  },
  {
   "cell_type": "code",
   "execution_count": 6,
   "outputs": [
    {
     "name": "stdout",
     "output_type": "stream",
     "text": [
      "Sequential Output shape: \t torch.Size([1, 16, 112, 112])\n",
      "Sequential Output shape: \t torch.Size([1, 32, 56, 56])\n",
      "Sequential Output shape: \t torch.Size([1, 64, 28, 28])\n",
      "Sequential Output shape: \t torch.Size([1, 128, 14, 14])\n",
      "Sequential Output shape: \t torch.Size([1, 128, 7, 7])\n",
      "Flatten Output shape: \t torch.Size([1, 6272])\n",
      "Linear Output shape: \t torch.Size([1, 4096])\n",
      "ReLU Output shape: \t torch.Size([1, 4096])\n",
      "Dropout Output shape: \t torch.Size([1, 4096])\n",
      "Linear Output shape: \t torch.Size([1, 4096])\n",
      "ReLU Output shape: \t torch.Size([1, 4096])\n",
      "Dropout Output shape: \t torch.Size([1, 4096])\n",
      "Linear Output shape: \t torch.Size([1, 10])\n"
     ]
    }
   ],
   "source": [
    "x = torch.randn(size=(1, 1, 224, 224))\n",
    "for blk in net:\n",
    "    x = blk(x)\n",
    "    print(blk.__class__.__name__, 'Output shape: \\t', x.shape)"
   ],
   "metadata": {
    "collapsed": false
   }
  },
  {
   "cell_type": "code",
   "execution_count": 7,
   "outputs": [
    {
     "name": "stdout",
     "output_type": "stream",
     "text": [
      "Downloading http://fashion-mnist.s3-website.eu-central-1.amazonaws.com/train-images-idx3-ubyte.gz\n",
      "Downloading http://fashion-mnist.s3-website.eu-central-1.amazonaws.com/train-images-idx3-ubyte.gz to ../data\\FashionMNIST\\raw\\train-images-idx3-ubyte.gz\n"
     ]
    },
    {
     "name": "stderr",
     "output_type": "stream",
     "text": [
      "100%|██████████| 26421880/26421880 [00:52<00:00, 499667.99it/s] \n"
     ]
    },
    {
     "name": "stdout",
     "output_type": "stream",
     "text": [
      "Extracting ../data\\FashionMNIST\\raw\\train-images-idx3-ubyte.gz to ../data\\FashionMNIST\\raw\n",
      "\n",
      "Downloading http://fashion-mnist.s3-website.eu-central-1.amazonaws.com/train-labels-idx1-ubyte.gz\n",
      "Downloading http://fashion-mnist.s3-website.eu-central-1.amazonaws.com/train-labels-idx1-ubyte.gz to ../data\\FashionMNIST\\raw\\train-labels-idx1-ubyte.gz\n"
     ]
    },
    {
     "name": "stderr",
     "output_type": "stream",
     "text": [
      "100%|██████████| 29515/29515 [00:00<00:00, 69146.79it/s]\n"
     ]
    },
    {
     "name": "stdout",
     "output_type": "stream",
     "text": [
      "Extracting ../data\\FashionMNIST\\raw\\train-labels-idx1-ubyte.gz to ../data\\FashionMNIST\\raw\n",
      "\n",
      "Downloading http://fashion-mnist.s3-website.eu-central-1.amazonaws.com/t10k-images-idx3-ubyte.gz\n",
      "Downloading http://fashion-mnist.s3-website.eu-central-1.amazonaws.com/t10k-images-idx3-ubyte.gz to ../data\\FashionMNIST\\raw\\t10k-images-idx3-ubyte.gz\n"
     ]
    },
    {
     "name": "stderr",
     "output_type": "stream",
     "text": [
      "100%|██████████| 4422102/4422102 [00:09<00:00, 458530.61it/s]\n"
     ]
    },
    {
     "name": "stdout",
     "output_type": "stream",
     "text": [
      "Extracting ../data\\FashionMNIST\\raw\\t10k-images-idx3-ubyte.gz to ../data\\FashionMNIST\\raw\n",
      "\n",
      "Downloading http://fashion-mnist.s3-website.eu-central-1.amazonaws.com/t10k-labels-idx1-ubyte.gz\n",
      "Downloading http://fashion-mnist.s3-website.eu-central-1.amazonaws.com/t10k-labels-idx1-ubyte.gz to ../data\\FashionMNIST\\raw\\t10k-labels-idx1-ubyte.gz\n"
     ]
    },
    {
     "name": "stderr",
     "output_type": "stream",
     "text": [
      "100%|██████████| 5148/5148 [00:00<00:00, 2551675.37it/s]"
     ]
    },
    {
     "name": "stdout",
     "output_type": "stream",
     "text": [
      "Extracting ../data\\FashionMNIST\\raw\\t10k-labels-idx1-ubyte.gz to ../data\\FashionMNIST\\raw\n",
      "\n"
     ]
    },
    {
     "name": "stderr",
     "output_type": "stream",
     "text": [
      "\n"
     ]
    }
   ],
   "source": [
    "lr, num_epochs, batch_size = 0.05, 10, 128\n",
    "# train_iter, test_iter = d2l.load_data_fashion_mnist(batch_size, resize=224)\n",
    "# d2l.train_ch6(net, train_iter, test_iter, num_epochs, lr, d2l.try_gpu())"
   ],
   "metadata": {
    "collapsed": false
   }
  },
  {
   "cell_type": "code",
   "execution_count": 7,
   "outputs": [],
   "source": [],
   "metadata": {
    "collapsed": false
   }
  }
 ],
 "metadata": {
  "kernelspec": {
   "display_name": "Python 3",
   "language": "python",
   "name": "python3"
  },
  "language_info": {
   "codemirror_mode": {
    "name": "ipython",
    "version": 2
   },
   "file_extension": ".py",
   "mimetype": "text/x-python",
   "name": "python",
   "nbconvert_exporter": "python",
   "pygments_lexer": "ipython2",
   "version": "2.7.6"
  }
 },
 "nbformat": 4,
 "nbformat_minor": 0
}
